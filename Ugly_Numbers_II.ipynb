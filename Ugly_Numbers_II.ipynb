{
 "cells": [
  {
   "cell_type": "markdown",
   "metadata": {},
   "source": [
    "# Ugly Number II"
   ]
  },
  {
   "cell_type": "markdown",
   "metadata": {},
   "source": [
    "### Write a program to find the n-th ugly number.\n",
    "\n",
    "### Ugly numbers are positive numbers whose prime factors only include 2, 3, 5. \n",
    "\n",
    "##### Example:\n",
    "\n",
    "Input: n = 10\n",
    "Output: 12\n",
    "Explanation: 1, 2, 3, 4, 5, 6, 8, 9, 10, 12 is the sequence of the first 10 ugly numbers.\n",
    "\n",
    "##### Note:  \n",
    "\n",
    "    1 is typically treated as an ugly number.\n",
    "    n does not exceed 1690."
   ]
  },
  {
   "cell_type": "code",
   "execution_count": null,
   "metadata": {},
   "outputs": [],
   "source": [
    "class Solution:\n",
    "    def nthUglyNumber(self, n: int) -> int:\n",
    "        ugly=[0]*(n)\n",
    "        ugly[0]=1\n",
    "        i2 = i3 =i5 = 0 \n",
    "        next_2X = 2\n",
    "        next_3X = 3\n",
    "        next_5X = 5\n",
    "        for l in range(1, n):\n",
    "            ugly[l] = min(next_2X, next_3X, next_5X) \n",
    "            if ugly[l] == next_2X: \n",
    "                i2 += 1\n",
    "                next_2X = ugly[i2] * 2\n",
    "    \n",
    "            if ugly[l] == next_3X: \n",
    "                i3 += 1\n",
    "                next_3X = ugly[i3] * 3\n",
    "  \n",
    "            if ugly[l] == next_5X:  \n",
    "                i5 += 1\n",
    "                next_5X = ugly[i5] * 5\n",
    "        return ugly[-1] \n",
    "             \n",
    "        "
   ]
  }
 ],
 "metadata": {
  "kernelspec": {
   "display_name": "Python 3.8.2 64-bit",
   "language": "python",
   "name": "python38264bit231b611d4d3d463ea5bf43bfc48a0e88"
  },
  "language_info": {
   "codemirror_mode": {
    "name": "ipython",
    "version": 3
   },
   "file_extension": ".py",
   "mimetype": "text/x-python",
   "name": "python",
   "nbconvert_exporter": "python",
   "pygments_lexer": "ipython3",
   "version": "3.8.2"
  }
 },
 "nbformat": 4,
 "nbformat_minor": 2
}
